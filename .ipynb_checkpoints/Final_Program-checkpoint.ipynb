{
 "cells": [
  {
   "cell_type": "code",
   "execution_count": null,
   "id": "159195ae",
   "metadata": {},
   "outputs": [],
   "source": [
    "from Final_Backend import *\n",
    "from matplotlib.dates import DateFormatter\n",
    "import matplotlib.dates as mdates"
   ]
  },
  {
   "cell_type": "code",
   "execution_count": null,
   "id": "6e6d35ad",
   "metadata": {},
   "outputs": [],
   "source": [
    "#datums?\n",
    "testdatums = [dt.datetime(2016,6,25), dt.datetime(2016,8,15), dt.datetime(2016,12,8),\n",
    "              dt.datetime(2017,4,1),dt.datetime(2017,5,20), dt.datetime(2017, 11, 11),\n",
    "              dt.datetime(2018, 1, 3), dt.datetime(2018, 7, 13), dt.datetime(2018, 10, 26),\n",
    "              dt.datetime(2019, 2,3),dt.datetime(2019, 5, 24),dt.datetime(2019,9,20)]\n",
    "\n",
    "#geef model keuze \"lstm\" of \"seq\", seq staat voor sequential\n",
    "modelchoice = \"lstm\"\n",
    "\n",
    "#kies of je de modellen wilt trainen of de opgeslagen gewichten wilt gebruiken via \"n\" of \"y\"\n",
    "train_the_model = \"n\"\n"
   ]
  },
  {
   "cell_type": "code",
   "execution_count": null,
   "id": "5dd7d9a2",
   "metadata": {},
   "outputs": [],
   "source": [
    "#structuur van het lstm neuraal netwerk\n",
    "belpex_layers=6\n",
    "n_features_bel = [66,66*3,66*3,3*66,3*66,66]\n",
    "bel_epochs = 500\n",
    "\n",
    "solar_layers=6\n",
    "n_features_sol = [66,66*2,66*2,2*66,2*66,66]\n",
    "sol_epochs=500"
   ]
  },
  {
   "cell_type": "code",
   "execution_count": null,
   "id": "a74e5785",
   "metadata": {},
   "outputs": [],
   "source": [
    "#structuur van het sequential neuraal netwerk\n",
    "nodesperlayer_sol = [96,192,192,192,192,96]\n",
    "activationfunctions_sol = ['relu','relu','relu','relu','relu','linear']\n",
    "epochs_sol = 300\n",
    "\n",
    "nodesperlayer_bel = [96,192,192,96]\n",
    "activ_bel = ['relu','relu','relu','linear']\n",
    "epochs_bel = 500"
   ]
  },
  {
   "cell_type": "code",
   "execution_count": null,
   "id": "d6e5542b",
   "metadata": {},
   "outputs": [],
   "source": [
    "solarlstm_predictions, belpexlstm_predictions,ybel_test,ysol_test = lstm_definer(train_the_model,testdatums, belpex_layers,n_features_bel,bel_epochs,solar_layers,n_features_sol,sol_epochs)"
   ]
  },
  {
   "cell_type": "code",
   "execution_count": null,
   "id": "14ff0885",
   "metadata": {
    "scrolled": true
   },
   "outputs": [],
   "source": [
    "solarseq_predictions,belpexseq_predictions = seq_definer(train_the_model,testdatums,epochs_bel,epochs_sol,activ_bel,activationfunctions_sol,nodesperlayer_bel,nodesperlayer_sol)"
   ]
  },
  {
   "cell_type": "code",
   "execution_count": null,
   "id": "091013eb",
   "metadata": {
    "scrolled": true
   },
   "outputs": [],
   "source": [
    "temlstm = []\n",
    "temseq = []\n",
    "for i in range(len(testdatums)):\n",
    "    temlstm.append(mse(solarlstm_predictions[i][33:73],ysol_test[i][33:73]))\n",
    "    temseq.append(mse(solarseq_predictions[i][33:73],ysol_test[i][33:73]))\n",
    "\n",
    "labels = testdatums\n",
    "seq_means = temseq\n",
    "lstm_means = temlstm\n",
    "x = np.arange(len(labels))  # the label locations\n",
    "width = 0.35  # the width of the bars\n",
    "\n",
    "fig, ax = plt.subplots()\n",
    "rects1 = ax.bar(x - width/2, seq_means, width, label='MLP')\n",
    "rects2 = ax.bar(x + width/2, lstm_means, width, label='LSTM')\n",
    "\n",
    "ax.set_ylabel('MSE (lower is better)')\n",
    "ax.set_title('Fout in de resultatenset op dagelijkse basis (Solar)')\n",
    "ax.set_xticks(x, labels)\n",
    "ax.legend()\n",
    "plt.xticks(rotation=45)\n",
    "date_form = DateFormatter(\"%m-%d\")\n",
    "ax.xaxis.set_major_formatter(date_form)\n",
    "fig.tight_layout()\n",
    "plt.xticks(rotation=45)\n",
    "plt.show()\n",
    "\n",
    "print(sum(temseq)/len(temseq),sum(temlstm)/len(temlstm))"
   ]
  },
  {
   "cell_type": "code",
   "execution_count": null,
   "id": "57945fa1",
   "metadata": {},
   "outputs": [],
   "source": [
    "temlstm = []\n",
    "temseq = []\n",
    "for i in range(len(testdatums)):\n",
    "    temlstm.append(mse(belpexlstm_predictions[i][33:73],ybel_test[i][33:73]))\n",
    "    temseq.append(mse(belpexseq_predictions[i][33:73],ybel_test[i][33:73]))\n",
    "\n",
    "labels = testdatums\n",
    "seq_means = temseq\n",
    "lstm_means = temlstm\n",
    "x = np.arange(len(labels))  # the label locations\n",
    "width = 0.35  # the width of the bars\n",
    "\n",
    "fig, ax = plt.subplots()\n",
    "rects1 = ax.bar(x - width/2, seq_means, width, label='MLP')\n",
    "rects2 = ax.bar(x + width/2, lstm_means, width, label='LSTM')\n",
    "\n",
    "ax.set_ylabel('MSE (lower is better)')\n",
    "ax.set_title('Fout in de resultatenset op dagelijkse basis (Belpex)')\n",
    "ax.set_xticks(x, labels)\n",
    "ax.legend()\n",
    "plt.xticks(rotation=45)\n",
    "date_form = DateFormatter(\"%m-%d\")\n",
    "ax.xaxis.set_major_formatter(date_form)\n",
    "fig.tight_layout()\n",
    "\n",
    "plt.show()\n",
    "\n",
    "print(sum(temseq)/len(temseq),sum(temlstm)/len(temlstm))"
   ]
  },
  {
   "cell_type": "code",
   "execution_count": null,
   "id": "07bb85ed",
   "metadata": {},
   "outputs": [],
   "source": [
    "time_list = [datetime.datetime(2020,1,1,0,0) + datetime.timedelta(minutes=15*i) for i in range(14,80)]\n",
    "\n",
    "belpexseq_predictions = np.array(belpexseq_predictions)\n",
    "belpexlstm_predictions = np.array(belpexlstm_predictions)\n",
    "ybel_test = np.array(ybel_test)\n",
    "days = 0\n",
    "plt.figure()\n",
    "plt.gca().xaxis.set_major_formatter(mdates.DateFormatter('%H:%M'))\n",
    "plt.title(\"Performantie van de belpexvoorspellers\")\n",
    "plt.plot(time_list,belpexseq_predictions[days][14:80].flatten(),color='orange', label='MLP-predictor')\n",
    "plt.plot(time_list,belpexlstm_predictions[days][14:80].flatten(),color='red',label='LSTM-predictor')\n",
    "plt.plot(time_list,ybel_test[days][14:80].flatten(),color='blue',label='Actual')\n",
    "plt.xlabel(\"Time [-]\")\n",
    "plt.ylabel(\"Belpex [€/kWh]\")\n",
    "plt.gcf().autofmt_xdate()\n",
    "plt.legend()\n",
    "\n",
    "plt.show"
   ]
  },
  {
   "cell_type": "code",
   "execution_count": null,
   "id": "4ee1131d",
   "metadata": {},
   "outputs": [],
   "source": [
    "time_list = [datetime.datetime(2020,1,1,0,0) + datetime.timedelta(minutes=15*i) for i in range(0,96)]\n",
    "solarlstm_predictions = selfrelu(solarlstm_predictions)\n",
    "solarseq_predictions = np.array(solarseq_predictions)\n",
    "solarlstm_predictions = np.array(solarlstm_predictions)\n",
    "ysol_test = np.array(ysol_test)\n",
    "days = 0\n",
    "plt.figure()\n",
    "plt.gca().xaxis.set_major_formatter(mdates.DateFormatter('%H:%M'))\n",
    "plt.title(\"Performantie van de energieproductievoorspellers\")\n",
    "plt.plot(time_list,solarseq_predictions[days].flatten(),color='orange',label='MLP-predictor')\n",
    "plt.plot(time_list,solarlstm_predictions[days].flatten(),color='red',label='LSTM-predictor')\n",
    "plt.plot(time_list,ysol_test[days].flatten(),color='blue',label='Actual')\n",
    "plt.xlabel(\"Time [-]\")\n",
    "plt.ylabel(\"Solar Output [kW]\")\n",
    "plt.legend()\n",
    "plt.gcf().autofmt_xdate()\n",
    "plt.show\n",
    "print(mse(solarlstm_predictions[days],ysol_test[days]))\n",
    "print(mse(solarseq_predictions[days],ysol_test[days]))"
   ]
  },
  {
   "cell_type": "code",
   "execution_count": null,
   "id": "02e1204b",
   "metadata": {},
   "outputs": [],
   "source": [
    "if modelchoice == \"seq\":\n",
    "    solar_predictions = solarseq_predictions\n",
    "    belpex_predictions = belpexseq_predictions    \n",
    "elif modelchoice == \"lstm\":\n",
    "    solar_predictions = solarlstm_predictions\n",
    "    belpex_predictions = belpexlstm_predictions"
   ]
  },
  {
   "cell_type": "code",
   "execution_count": null,
   "id": "70797911",
   "metadata": {},
   "outputs": [],
   "source": [
    "MachineLearningGUI(solar_predictions,belpex_predictions, testdatums, G.DATA)"
   ]
  },
  {
   "cell_type": "code",
   "execution_count": null,
   "id": "0d585443",
   "metadata": {},
   "outputs": [],
   "source": [
    "predictions_sol = solar_predictions\n",
    "predictions_bel = belpex_predictions\n",
    "data = G.DATA\n",
    "max_charge_rate = 12.5\n",
    "min_charge_rate = 1.25\n",
    "s=0\n",
    "prices_day = []\n",
    "prices_car = []\n",
    "N = 30\n",
    "\n",
    "for i in range(1,N+1):\n",
    "    s = 0\n",
    "    for day in testdatums:\n",
    "        carslist = i*[[60,0,39]]\n",
    "        bel_real = list(\n",
    "            data[\"belpex\"][day + dt.timedelta(hours=8, minutes=15):day + dt.timedelta(hours=18)])\n",
    "        sun_real = list(\n",
    "            data[\"solar\"][day + dt.timedelta(hours=8, minutes=15):day + dt.timedelta(hours=18)])\n",
    "        bel_sell = [i/2 for i in bel_real]\n",
    "        optimized_schedule = Gurobi_optimizer(predictions_sol[testdatums.index(day)],\n",
    "                                              predictions_bel[testdatums.index(day)], carslist, max_charge_rate,\n",
    "                                              min_charge_rate)\n",
    "        VincentRijmen, prijs =  compare_prices(optimized_schedule, create_naive_schedule(carslist, max_charge_rate), bel_real,\n",
    "                                           bel_sell, sun_real)\n",
    "        s+=prijs\n",
    "    prices_car.append(s/len(carslist))\n",
    "plt.figure(2)\n",
    "plt.plot([i for i in range(1,N+1)],prices_car,color='blue',label='bespaard per auto')\n",
    "plt.xticks([i for i in range(1,N+1)],rotation=45)\n",
    "plt.xlabel('aantal wagens',rotation=45)\n",
    "plt.ylabel('euro')\n",
    "plt.grid()\n",
    "plt.legend()\n",
    "s=0\n",
    "for day in testdatums:\n",
    "        carslist = 20*[[60,0,39]]\n",
    "        bel_real = list(\n",
    "            data[\"belpex\"][day + dt.timedelta(hours=8, minutes=15):day + dt.timedelta(hours=18)])\n",
    "        sun_real = list(\n",
    "            data[\"solar\"][day + dt.timedelta(hours=8, minutes=15):day + dt.timedelta(hours=18)])\n",
    "        bel_sell = [i/2 for i in bel_real]\n",
    "        optimized_schedule = Gurobi_optimizer(predictions_sol[testdatums.index(day)],\n",
    "                                              predictions_bel[testdatums.index(day)], carslist, max_charge_rate,\n",
    "                                              min_charge_rate)\n",
    "        VincentRijmen, prijs =  compare_prices(optimized_schedule, create_naive_schedule(carslist, max_charge_rate), bel_real,\n",
    "                                           bel_sell, sun_real)\n",
    "        s+=prijs\n",
    "        prices_day.append(prijs)\n",
    "plt.figure(3)\n",
    "plt.scatter(testdatums,prices_day)\n",
    "plt.xticks(testdatums,rotation=45)\n",
    "plt.ylabel('euro')\n",
    "plt.grid()"
   ]
  }
 ],
 "metadata": {
  "kernelspec": {
   "display_name": "Python 3 (ipykernel)",
   "language": "python",
   "name": "python3"
  },
  "language_info": {
   "codemirror_mode": {
    "name": "ipython",
    "version": 3
   },
   "file_extension": ".py",
   "mimetype": "text/x-python",
   "name": "python",
   "nbconvert_exporter": "python",
   "pygments_lexer": "ipython3",
   "version": "3.10.4"
  }
 },
 "nbformat": 4,
 "nbformat_minor": 5
}
